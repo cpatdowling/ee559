{
 "cells": [
  {
   "cell_type": "raw",
   "metadata": {},
   "source": [
    "---\n",
    "title: \"Linear Regression and DC Power Flow\"\n",
    "collection: publications\n",
    "permalink: /notebooks/regression\n",
    "excerpt: 'This notebook explores the application of linear regression to state estimation in the DC power flow problem. EE PMP 559, Spring 2019'\n",
    "date: 2019-04-18\n",
    "paperurl: 'https://github.com/cpatdowling/ee559'\n",
    "---"
   ]
  },
  {
   "cell_type": "markdown",
   "metadata": {},
   "source": [
    "### Linear Regression and DC Power Flow"
   ]
  },
  {
   "cell_type": "markdown",
   "metadata": {},
   "source": [
    "In class we learned that the DC approximation of the power flow problem _linearizes_ the relationship between the phase angle and power injections over a power grid, like the example in Fig. 1. In this notebook we'll use linear regression to estimate the phase angle, line characteristics, power injections, flows, under various conditions."
   ]
  },
  {
   "cell_type": "markdown",
   "metadata": {},
   "source": [
    "<center>Fig. 1: IEEE-123 Test Feeder</center>\n",
    "![alt](figs/123testfeeder.png)"
   ]
  },
  {
   "cell_type": "markdown",
   "metadata": {},
   "source": [
    "First we'll need to go over a few definitions and matrices that you saw in class. Fig. 1 illustrates the IEEE-123 test feeder, a standardized distribution network used to test control algorithms and optimization techniques for application in real systems. Each _node_ in the graph is an electrical bus, and each _edge_ is a power line. In the programming assignment questions, we'll be looking at a much simpler, 8-bus network we design ourselves. Note that each bus has a number assigned to it.\n",
    "\n",
    "In AC (DC) power flow, electricity is subject to impedance (resistance) over the power lines. We can represent this with a special $n x n$ matrix which characterizes this impedance at each node and between nodes. Based on how the power flow problem is simplified, the values of these matrix are called admittance or susceptance because these values become inverted, or only represent a real or imaginary part of the power flow. Regardless, the structure remains the same; we'll define the admittance matrix, $B$, as\n",
    "\n",
    "<center>$B_{i,j} = \\begin{cases} \\sum_{k=1,\\ldots n} b_{i,k} & i = j \\\\ -b_{i,j} & \\text{otherwise} \\end{cases}$</center>\n",
    "\n",
    "If two nodes $i,j$ are connected, the line has admittance $b_{i,j}$. The diagonal elements are the sum of the admittances of the lines connected to that node. The important takeaway is that the matrix $B$ characterizes the resistivity properties of the power lines and the power line topology.\n",
    "\n",
    "For a network, or _graph_ like the example in Fig. 1 with $n$ nodes and $m$ edges, the node-edge incidence matrix is an $n x m$ matrix $F$ where each element is 1 if node $i$ is connection to node $j$, $-1$ if $j$ is connected to $i$ (we assign a direction), and 0 if no connection exists.\n",
    "\n",
    "<center>$f_{i,j} = \\begin{cases} 1 & \\text{if node i is connected to node j} \\\\ 0 & \\text{otherwise} \\end{cases}$</center>\n",
    "\n",
    "In our application we'll scale these 1's a 0's by the admittance $b$, so that, \n",
    "\n",
    "<center>$f_{i,j} = \\begin{cases} b_{i,j} & \\text{if node i is connected to node j} \\\\ 0 & \\text{otherwise} \\end{cases}$</center>\n",
    "\n",
    "In power engineering often time we'll assume a nominal voltage of 1 so that the power flow between busses is entirely characterized the by the AC phase angle difference between busses. If the phase angle differences are small, we can use the small angle approximation to _linearize_ the AC power flow equations. This is called the DC approximation as it resembles the equations for DC power flow. For a vector of bus voltage angles $\\boldsymbol{\\theta}$ and unit voltage, then the power injection at each node,\n",
    "\n",
    "<center>$\\boldsymbol{p} = B \\boldsymbol{\\theta}$</center>\n",
    "\n",
    "and the power _flow_ $\\boldsymbol{f}$ along each line equals,\n",
    "\n",
    "<center>$\\boldsymbol{f} = F\\boldsymbol{\\theta}$\n",
    "\n",
    "These are just linear equations, like we've seen in the previous homeworks. Moreover, phase angles are very difficult to measure, and we often work with many noisy samples of power injections and flows. For convenience, we can stack the two linear equation in a single equation:\n",
    "\n",
    "<center>$\\boldsymbol{z} = H\\boldsymbol{x}$\n",
    "\n",
    "In the following exercises we'll look at estimating the phase-angle state of the grid."
   ]
  },
  {
   "cell_type": "markdown",
   "metadata": {
    "collapsed": true
   },
   "source": [
    "<center>Fig. 2: 8 bus network</center>\n",
    "![alt](figs/8-bus.png)"
   ]
  },
  {
   "cell_type": "markdown",
   "metadata": {},
   "source": [
    "The linear system $z = Hx$ is overdetermined. In order to find a unique solution that satisfies various operational constraints, there are tricks and techniques that power engineers use, like incorporating a so-called slack bus, or using the Kron reduction, to determine values that the engineer cares about. We'll use what we've learned thus far: we can write this overdetermined system as,\n",
    "\n",
    "<center>$Hx - z = r$</center>\n",
    "\n",
    "where r is some residual error between a phase angle vector $x$ and the power flows and injections $z$. If we wrap the left hand side up in a 2-norm,\n",
    "\n",
    "<center>$||Hx - z||_{2}^{2} = r$</center>\n",
    "\n",
    "minimizing the residual $r$ is just like the least squares problem. In the following problems we'll solve for the power injections and line flows using least squares, and examine the effect bad data has on our solution, and how we can adapt to it."
   ]
  },
  {
   "cell_type": "code",
   "execution_count": 16,
   "metadata": {
    "collapsed": true
   },
   "outputs": [],
   "source": [
    "#here we'll construct the neccessary matrices for the above example network\n",
    "\n",
    "import numpy as np\n",
    "import matplotlib.pyplot as plt\n",
    "\n",
    "#node edge incidence matrix scaled by admittance\n",
    "#these are just arbitrary admittance values for this assignment\n",
    "F = np.array([[5.0,0.0,0.0,-5.0,0.0,0.0,0.0,0.0],\n",
    "              [0.0,3.0,0.0,0.0,-3.0,0.0,0.0,0.0],\n",
    "              [0.0,3.0,0.0,0.0,0.0,-3.0,0.0,0.0],\n",
    "              [0.0,0.0,13.0,-13.0,0.0,0.0,0.0,0.0],\n",
    "              [0.0,0.0,0.0,10.0,-10.0,0.0,0.0,0.0],\n",
    "              [0.0,0.0,0.0,0.0,5.0,-5.0,0.0,0.0],\n",
    "              [0.0,0.0,0.0,0.0,3.2,0.0,-3.2,0.0],\n",
    "              [0.0,0.0,0.0,0.0,2.5,0.0,0.0,-2.5]])\n",
    "\n",
    "self_admittance = np.sum(np.abs(F), axis=0)\n",
    "\n",
    "off_diag = np.array([[0, 0, 0, -5, 0, 0, 0, 0],\n",
    "                     [0, 0, 0, 0, -3, -3, 0, 0],\n",
    "                     [0, 0, 0, -13, 0, 0, 0, 0],\n",
    "                     [-5, 0, -13, 0, -10, 0, 0, 0],\n",
    "                     [0, -3, 0, -10, 0, -5, -3.2, -2.5],\n",
    "                     [0, -3, 0, 0, -5, 0, 0, 0],\n",
    "                     [0, 0, 0, 0, -3.2, 0, 0, 0],\n",
    "                     [0, 0, 0, 0, -2.5, 0, 0, 0]])\n",
    "\n",
    "#admittance matrix\n",
    "B = np.diag(self_admittance) + off_diag\n",
    "\n",
    "#stacked\n",
    "H = np.vstack((F, B))\n"
   ]
  },
  {
   "cell_type": "code",
   "execution_count": 20,
   "metadata": {
    "collapsed": true
   },
   "outputs": [],
   "source": [
    "#true flows and power injections for reference\n",
    "\n",
    "f = 0.01*np.array([-1, -2, -1, 20, 17, 1, 10, 3])\n",
    "p = 0.01*np.array([-1, -3, 20, -2, 0, -1, -10, -3])\n",
    "\n",
    "z = np.expand_dims(np.append(f, p), axis=1)"
   ]
  },
  {
   "cell_type": "code",
   "execution_count": 53,
   "metadata": {},
   "outputs": [
    {
     "name": "stdout",
     "output_type": "stream",
     "text": [
      "Output of linear_model.LinearRegression().fit() method\n",
      "LinearRegression(copy_X=True, fit_intercept=True, n_jobs=1, normalize=False)\n",
      "\n",
      "\n",
      "Attributes of model object\n",
      "['__abstractmethods__', '__class__', '__delattr__', '__dict__', '__dir__', '__doc__', '__eq__', '__format__', '__ge__', '__getattribute__', '__getstate__', '__gt__', '__hash__', '__init__', '__init_subclass__', '__le__', '__lt__', '__module__', '__ne__', '__new__', '__reduce__', '__reduce_ex__', '__repr__', '__setattr__', '__setstate__', '__sizeof__', '__str__', '__subclasshook__', '__weakref__', '_abc_cache', '_abc_negative_cache', '_abc_negative_cache_version', '_abc_registry', '_decision_function', '_estimator_type', '_get_param_names', '_preprocess_data', '_residues', '_set_intercept', 'coef_', 'copy_X', 'fit', 'fit_intercept', 'get_params', 'intercept_', 'n_jobs', 'normalize', 'predict', 'rank_', 'score', 'set_params', 'singular_']\n",
      "\n",
      "\n"
     ]
    }
   ],
   "source": [
    "#to simplify our code, we can now use the least squares method in sklearn\n",
    "#https://scikit-learn.org/stable/modules/generated/sklearn.linear_model.LinearRegression.html\n",
    "from sklearn import linear_model\n",
    "\n",
    "#here's an example of how to use least squares to find the lowest energy solution to an \n",
    "#overdetermined linear system, in this case we have a _single_ sample of z\n",
    "\n",
    "model = linear_model.LinearRegression().fit(H, z)\n",
    "\n",
    "#notice that the object model isn't the vector x\n",
    "print(\"Output of linear_model.LinearRegression().fit() method\")\n",
    "print(model)\n",
    "print(\"\\n\")\n",
    "\n",
    "#it's an object with a large number of attributes, we can inspect them with the native Python function dir():\n",
    "print(\"Attributes of model object\")\n",
    "print(dir(model))\n",
    "print(\"\\n\")"
   ]
  },
  {
   "cell_type": "code",
   "execution_count": 54,
   "metadata": {},
   "outputs": [
    {
     "name": "stdout",
     "output_type": "stream",
     "text": [
      "Solution\n",
      "[[ 0.01365549 -0.00781091  0.03103551  0.01564802 -0.00130978 -0.00461427\n",
      "  -0.03288193 -0.01372213]]\n",
      "\n",
      "\n",
      "Error\n",
      "0.007751846059803475\n",
      "\n",
      "\n"
     ]
    }
   ],
   "source": [
    "#notice that the \"Methods\" section of the LinearRegression manual page linked above lists \n",
    "#several attributes that appear in the list we printed with dir(). We care about 'coef_', this is the vector x\n",
    "print(\"Solution\")\n",
    "print(model.coef_)\n",
    "print(\"\\n\")\n",
    "\n",
    "#we can set this value to a variable and look at the error\n",
    "x_hat = model.coef_.T  #transpose it from (1,8) to (8,1)\n",
    "loss = np.linalg.norm(H.dot(x_hat) - z, 2)\n",
    "\n",
    "print(\"Error\")\n",
    "print(loss)\n",
    "print(\"\\n\")"
   ]
  },
  {
   "cell_type": "markdown",
   "metadata": {},
   "source": [
    "### Problem 1\n",
    "\n",
    "For this problem you'll need to read the manual page of the linked in the above example carefully. You're given $k$ noisy samples of $z$: the line flows and power injections. Instantiate a linear model and find the solution $x$ of nodal phase angles. Print the loss (1 value across all samples). Hint: you're going to find an $x$ for each sample of $z$, we need to find the best $x$ the minimizes the loss for any $z$."
   ]
  },
  {
   "cell_type": "code",
   "execution_count": 110,
   "metadata": {
    "collapsed": true
   },
   "outputs": [],
   "source": [
    "#here are the samples, they are not formatted correctly, you'll need to format them correctly \n",
    "#in order to use linear_model.LinearRegression().fit()\n",
    "samples_1 = []\n",
    "\n",
    "for i in range(100):\n",
    "    samples_1.append(z + np.random.normal(0,0.02,size=z.shape)) #the true value + some noise"
   ]
  },
  {
   "cell_type": "code",
   "execution_count": 113,
   "metadata": {
    "collapsed": true
   },
   "outputs": [],
   "source": [
    "#insert your code here\n"
   ]
  },
  {
   "cell_type": "code",
   "execution_count": null,
   "metadata": {
    "collapsed": true
   },
   "outputs": [],
   "source": []
  },
  {
   "cell_type": "markdown",
   "metadata": {},
   "source": [
    "### Problem 2\n",
    "\n",
    "Our example power grid has very good power injection sensors with very little noise variance, and our cheaper line flow sensors have very high noise variance. In the example below, we show how to performed _weighted_ least squares, in order to bias the solution to rely on the high quality data more than the low quality data."
   ]
  },
  {
   "cell_type": "code",
   "execution_count": 128,
   "metadata": {
    "collapsed": true
   },
   "outputs": [],
   "source": [
    "weights = np.ones(z.shape)[:,0]  #the weights object must be 1-dimensional\n",
    "model = linear_model.LinearRegression().fit(H, z, sample_weight=weights)  \n",
    "x_hat = model.coef_.T\n",
    "\n",
    "#here I've just passed in weights equal to 1, so the solution is unchanged"
   ]
  },
  {
   "cell_type": "markdown",
   "metadata": {},
   "source": [
    "Find a vector of sample weights that improves on the loss over the vector of weights all equal to 1."
   ]
  },
  {
   "cell_type": "code",
   "execution_count": 126,
   "metadata": {
    "collapsed": true
   },
   "outputs": [],
   "source": [
    "samples_2 = []\n",
    "\n",
    "for i in range(100):\n",
    "    injection_noise = np.random.normal(0,0.01,size=z[0:8].shape)  #variance equal to 0.01\n",
    "    line_noise = np.random.normal(0,0.03,size=z[0:8].shape)       #variance equal to 0.03\n",
    "    samples_2.append(z + np.expand_dims(np.append(line_noise,injection_noise),axis=1)) #the true value + some noise"
   ]
  },
  {
   "cell_type": "code",
   "execution_count": null,
   "metadata": {
    "collapsed": true
   },
   "outputs": [],
   "source": [
    "#insert your code here\n"
   ]
  },
  {
   "cell_type": "code",
   "execution_count": null,
   "metadata": {
    "collapsed": true
   },
   "outputs": [],
   "source": []
  },
  {
   "cell_type": "markdown",
   "metadata": {},
   "source": [
    "### Problem 3\n",
    "\n",
    "We are again given a sequence of observations of power flows and injection, but there are several bad measurements. The noise is Gaussian; use what we know about the Gaussian distribution to derive a threshold-type means of eliminating outlier data. Compare the loss of the model with and without the outliers."
   ]
  },
  {
   "cell_type": "code",
   "execution_count": 138,
   "metadata": {
    "collapsed": true
   },
   "outputs": [],
   "source": [
    "#16 x 100 array of z samples\n",
    "samples_3_array = np.loadtxt(\"homework_3_data.txt\")"
   ]
  },
  {
   "cell_type": "code",
   "execution_count": 139,
   "metadata": {
    "collapsed": true
   },
   "outputs": [],
   "source": [
    "#insert your code here"
   ]
  },
  {
   "cell_type": "code",
   "execution_count": null,
   "metadata": {
    "collapsed": true
   },
   "outputs": [],
   "source": []
  }
 ],
 "metadata": {
  "kernelspec": {
   "display_name": "Python [conda env:anaconda3]",
   "language": "python",
   "name": "conda-env-anaconda3-py"
  },
  "language_info": {
   "codemirror_mode": {
    "name": "ipython",
    "version": 3
   },
   "file_extension": ".py",
   "mimetype": "text/x-python",
   "name": "python",
   "nbconvert_exporter": "python",
   "pygments_lexer": "ipython3",
   "version": "3.6.8"
  }
 },
 "nbformat": 4,
 "nbformat_minor": 2
}
