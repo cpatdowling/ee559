{
 "cells": [
  {
   "cell_type": "raw",
   "metadata": {},
   "source": [
    "---\n",
    "title: \"Regression and Time Series Prediction: Training and Testing\"\n",
    "collection: publications\n",
    "permalink: /notebooks/regression\n",
    "excerpt: 'This notebook explores the application of regression to time series prediction. EE PMP 559, Spring 2019'\n",
    "date: 2019-04-18\n",
    "paperurl: 'https://github.com/cpatdowling/ee559'\n",
    "---"
   ]
  },
  {
   "cell_type": "markdown",
   "metadata": {},
   "source": [
    "### Regression and Time Series Prediction: Training and Testing"
   ]
  },
  {
   "cell_type": "markdown",
   "metadata": {},
   "source": [
    "As we've noticed in power flow problems we've been looking at in class, grid operators are brutally constrained by the physics of electricity. Chief amongst these: the power supplied to the network need to equal the demand at _each moment in time_. Scheduling production amongst many power generators is a non-trivial task since they are expensive to start and run and the generation schedule needs to be adaptable to rapid fluctuations in demand. This problem is known as _generator dispatch_: a grid operator wants to minimize the cost of generating electricity while ensuring enough power is being generated in reserve because of unexpected increases in demand or failures in the grid. \n",
    "\n",
    "Fig. 1 illustrates the total power demand in the Texas electrical market (ERCOT) in 2017. Recall Hurricane Harvey caused massive flooding in Houston in late August that year; the red line in Fig. 1 marks 24 hours prior to Hurricane Harvey hitting Houston and causing widespread outages in one of the largest cities in Texas."
   ]
  },
  {
   "cell_type": "markdown",
   "metadata": {},
   "source": [
    "<center>Fig. 1</center>\n",
    "![alt](figs/ercot_demand.png)"
   ]
  },
  {
   "cell_type": "markdown",
   "metadata": {
    "collapsed": true
   },
   "source": [
    "The first step in setting the generation schedule is predicting how much power will be consumed by the grid at future time steps. We're going to suppose that our job is to predict how much power the grid will consume in the _next_ hour for a given day. We'll suppose that for a typical day, each hour can be predicted as a function of the previous hour's power consumption and a number of other features, like temperature, humidity, time of day, etc. Let $\\boldsymbol{x}_{t} = \\langle x_{i,t} \\rangle$ where each vector component $i$ is one of these data features at time $t$, and $\\boldsymbol{p}_{t+1}$ is the power consumed at time $t + 1$. If this function is linear, then,\n",
    "\n",
    "<center>$\\boldsymbol{p}_{t+1} = w^{T}\\boldsymbol{x}_{t}$</center>\n",
    "\n",
    "where $w$ is the vector of weights we would solve for in the standard linear regression problem. From the slides, this is an autoregressive model of order 1, meaning the next time step only depends on the previous. Including previous historical values (i.e. $x_{t-1}, x_{t-2}\\ldots$) increases the order:\n",
    "\n",
    "<center>$\\boldsymbol{p}_{t+1} = w_{1}^{T}\\boldsymbol{x}_{t} + w_{2}^{T}\\boldsymbol{x}_{T - 1}\\ldots$</center>"
   ]
  },
  {
   "cell_type": "markdown",
   "metadata": {},
   "source": [
    "<center>Fig. 2</center>\n",
    "![alt](figs/load_profile.png)"
   ]
  },
  {
   "cell_type": "markdown",
   "metadata": {},
   "source": [
    "This load profile is representative of how much power might be consumed over the course of a day. This is a typical profile for many grids, with a small peak in the morning and a larger peak in the evening, with the least power demanded in the earliest hours of the morning. Unfortunately a linear model won't describe the behavior we see here, so we'll assume we need to use a polynomial basis in this and the following assignments. We'll need pass the input data through a polynomial basis function $\\phi$, just like we have in the previous assignments:\n",
    "\n",
    "<center>$\\boldsymbol{p}_{t+1} = w_{1}^{T}\\phi(\\boldsymbol{x}_{t}) + w_{2}^{T}\\phi(\\boldsymbol{x}_{T - 1})\\ldots$</center>\n",
    "\n",
    "For this assignment we'll use a polynomial basis function, noting that _each sample needs to be passed through it's own basis function_, learn the weights $w_{i}$ on a training data set, and test the model on a testing data set."
   ]
  },
  {
   "cell_type": "code",
   "execution_count": 28,
   "metadata": {
    "collapsed": true
   },
   "outputs": [],
   "source": [
    "import numpy as np\n",
    "import matplotlib.pyplot as plt\n",
    "from sklearn import linear_model"
   ]
  },
  {
   "cell_type": "code",
   "execution_count": 29,
   "metadata": {
    "collapsed": true
   },
   "outputs": [],
   "source": [
    "#we'll use these helper functions to generate a polynomial basis on the feature data matrices X\n",
    "\n",
    "def poly_basis_single_sample(x, k):\n",
    "    #this function will help us quickly generate a polynomial basis\n",
    "    #k is the largest polynomial degree the basis runs to\n",
    "    out = []\n",
    "    for i in range(k+1):\n",
    "        #notice that first value of i will be 0, so the bias term is included\n",
    "        out.append(np.power(x, i))\n",
    "    return(np.asarray(out))\n",
    "\n",
    "#this one is not required for this assignment but can be used; we will use in the next assignment\n",
    "def poly_basis_multi_sample(X, k):\n",
    "    out = []\n",
    "    for sample_row in range(X.shape[0]):\n",
    "        sample = X[sample_row]\n",
    "        #poly basis returns an m feature x k power matrix, we need to vectorize it by using .flatten()\n",
    "        poly = np.asarray(poly_basis_single_sample(sample, k)).flatten() \n",
    "        out.append(poly)\n",
    "    return(np.asarray(out))"
   ]
  },
  {
   "cell_type": "code",
   "execution_count": 30,
   "metadata": {},
   "outputs": [
    {
     "data": {
      "image/png": "[encoded data removed]",
      "text/plain": [
       "<matplotlib.figure.Figure at 0x7f77bb3d0940>"
      ]
     },
     "metadata": {},
     "output_type": "display_data"
    },
    {
     "name": "stdout",
     "output_type": "stream",
     "text": [
      "(22, 32)\n",
      "(22,)\n"
     ]
    }
   ],
   "source": [
    "#import the training data\n",
    "data = np.loadtxt(\"homework_4_data_ex_train.txt\")\n",
    "\n",
    "#in this example there are 5 feature dimensions over 24 hours\n",
    "X_train_raw = data[:,0:4]\n",
    "\n",
    "#in order to use 2 hours at a time, we need to pair two hour rows together, one hour at a time, passing each\n",
    "#hour sample through the polynomial basis function with a chosen degree:\n",
    "poly_degree = 3\n",
    "X_train = []\n",
    "for i in range(24 - 2):  #24 hours minus the order\n",
    "    #get the individual sample for each time step you need, pass it through the polynomial basis function, vectorize\n",
    "    t_0 = poly_basis_single_sample(X_train_raw[i,:], poly_degree).flatten()\n",
    "    t_1 = poly_basis_single_sample(X_train_raw[i+1,:], poly_degree).flatten()\n",
    "    X_train.append(np.concatenate((t_0, t_1)))\n",
    "    \n",
    "X_train = np.asarray(X_train)\n",
    "\n",
    "#the last column is the output p_{t+1} we need to learn\n",
    "#in order to save the data file, the Y column is 0-padded in the first two values, so we start from the third element\n",
    "Y_train = data[:,5][2:]\n",
    "\n",
    "plt.plot(Y_train)\n",
    "plt.show()\n",
    "\n",
    "#notice Y_train is only 22 hours long, since the model we'll train in the example is order two, we need the first\n",
    "#and second hour of the day in order to predict the third hour, otherwise we'd need additional data from the\n",
    "#previous day; to keep things simple we'll restrict ourselves to 24 hour windows\n",
    "print(X_train.shape)\n",
    "print(Y_train.shape)"
   ]
  },
  {
   "cell_type": "code",
   "execution_count": 31,
   "metadata": {
    "collapsed": true
   },
   "outputs": [],
   "source": [
    "#similarly we'll load the test data\n",
    "#import the training data\n",
    "data_test = np.loadtxt(\"homework_4_data_ex_test.txt\")\n",
    "\n",
    "X_test_raw = data_test[:,0:4]\n",
    "\n",
    "poly_degree = 3\n",
    "X_test = []\n",
    "for i in range(24 - 2): \n",
    "    t_0 = poly_basis_single_sample(X_test_raw[i,:], poly_degree).flatten()\n",
    "    t_1 = poly_basis_single_sample(X_test_raw[i+1,:], poly_degree).flatten()\n",
    "    X_test.append(np.concatenate((t_0, t_1)))\n",
    "    \n",
    "X_test = np.asarray(X_test)\n",
    "\n",
    "Y_test = data_test[:,5][2:]\n"
   ]
  },
  {
   "cell_type": "markdown",
   "metadata": {},
   "source": [
    "Now we'll use LASSO to fit a polynomial basis to a time series model of order 2, and polynomial basis with degree 3"
   ]
  },
  {
   "cell_type": "code",
   "execution_count": 32,
   "metadata": {
    "collapsed": true
   },
   "outputs": [],
   "source": [
    "lasso_regressor = linear_model.Lasso(alpha=0.001, fit_intercept=False, tol=0.01, max_iter=10000)\n",
    "\n",
    "#this fits the outputs Y to the polynomial basis of inputs in the range -2 to 2\n",
    "lasso_regressor.fit(X_train, Y_train)\n",
    "\n",
    "#these are the weights the model learns\n",
    "w = lasso_regressor.coef_"
   ]
  },
  {
   "cell_type": "code",
   "execution_count": 33,
   "metadata": {},
   "outputs": [
    {
     "data": {
      "image/png": "[encoded data removed]",
      "text/plain": [
       "<matplotlib.figure.Figure at 0x7f77bb4b2400>"
      ]
     },
     "metadata": {},
     "output_type": "display_data"
    }
   ],
   "source": [
    "#here we plot our training data, model, and test data. Notice the model and training data are relatively close\n",
    "#but the true values are a little farther away. Both the train and test sets were generated with the same weights\n",
    "#we'll try to figure out what's going on in this and next assignment\n",
    "\n",
    "plt.plot(X_train.dot(w), label=\"model values\")   #our model\n",
    "plt.plot(Y_train, label=\"training values\")   #our training data\n",
    "plt.legend()\n",
    "plt.show()"
   ]
  },
  {
   "cell_type": "markdown",
   "metadata": {},
   "source": [
    "### Problem 1\n",
    "\n",
    "In the above example we've split our data into a train and test set. Use the model $w$ we learned on the test data. X_test is reformatted so that each row is full sample, $x_{t}$ and $x_{t-1}$  How does the model perform on the test data? Plot the test data, the model predictions, and the [MAE](https://en.wikipedia.org/wiki/Mean_absolute_error) (mean absolute error)."
   ]
  },
  {
   "cell_type": "code",
   "execution_count": null,
   "metadata": {
    "collapsed": true
   },
   "outputs": [],
   "source": [
    "#insert your code here"
   ]
  },
  {
   "cell_type": "markdown",
   "metadata": {},
   "source": [
    "### Problem 2\n",
    "\n",
    "We're going to look at what happens when we overfit a model. \n",
    "\n",
    "Pass the training and test data through the basis function as above. Train a model $w$ with the training set using LASSO and the parameters given below. In one plot, plot the model applied to the training data and training output values. In another plot, draw the model on the test data and test output values. In your own words, describe what happens."
   ]
  },
  {
   "cell_type": "code",
   "execution_count": null,
   "metadata": {
    "collapsed": true
   },
   "outputs": [],
   "source": [
    "#use these parameters for LASSO and the polynomial basis function\n",
    "\n",
    "poly_degree = 9  #higher than our previous problem\n",
    "alpha = 0.000001  #much smaller than our previous problem\n"
   ]
  },
  {
   "cell_type": "code",
   "execution_count": null,
   "metadata": {
    "collapsed": true
   },
   "outputs": [],
   "source": [
    "data_train = np.loadtxt(\"homework_4_data_ex_train.txt\")\n",
    "\n",
    "X_train_raw_prob_2 = data_train[:,0:4]\n",
    "Y_train_raw_prob_2 = data_train[:,5][2:]\n",
    "\n",
    "data_test = np.loadtxt(\"homework_4_data_ex_test.txt\")\n",
    "\n",
    "X_test_raw_prob_2 = data_test[:,0:4]\n",
    "Y_test_raw_prob_2 = data_test[:,5][2:]\n",
    "\n",
    "#pass each set data set X through the basis function above with the appropriate polynomial degree"
   ]
  },
  {
   "cell_type": "code",
   "execution_count": null,
   "metadata": {
    "collapsed": true
   },
   "outputs": [],
   "source": [
    "#insert code here"
   ]
  },
  {
   "cell_type": "markdown",
   "metadata": {},
   "source": [
    "### Problem 3\n",
    "\n",
    "Now we're going to overfit in another way. We're going to increase the order of the model. We happen to know that the true data was generated with an autoregressive equation of order 3. Suppose we didn't know, and we guessed much higher without doing any sort of auto-correlation tests.\n",
    "\n",
    "Train a model of order 7. You'll only have 24 - 7 values to predict, since you need the first 7 values of x to predict the first y. Adjust the for-loop in problem 1 to include 7 consecutive values, instead of 2. Just like problem 2, do one plot with the model on the training data and training output values, and a second plot with the model on the test data and the test output values."
   ]
  },
  {
   "cell_type": "code",
   "execution_count": null,
   "metadata": {
    "collapsed": true
   },
   "outputs": [],
   "source": [
    "#use these parameters for LASSO and the polynomial basis function\n",
    "\n",
    "poly_degree = 3\n",
    "alpha = 0.001"
   ]
  },
  {
   "cell_type": "code",
   "execution_count": null,
   "metadata": {
    "collapsed": true
   },
   "outputs": [],
   "source": [
    "data_train = np.loadtxt(\"homework_4_data_ex_train.txt\")\n",
    "\n",
    "X_train_raw_prob_3 = data_train[:,0:4]\n",
    "Y_train_raw_prob_3 = data_train[:,5][7:]  #we're picking up y from 7 onwards\n",
    "\n",
    "data_test = np.loadtxt(\"homework_4_data_ex_test.txt\")\n",
    "\n",
    "X_test_raw_prob_3 = data_test[:,0:4]\n",
    "Y_test_raw_prob_3 = data_test[:,5][7:]\n",
    "\n",
    "#pass each set data set X through the basis function above with the appropriate polynomial degree"
   ]
  },
  {
   "cell_type": "code",
   "execution_count": null,
   "metadata": {
    "collapsed": true
   },
   "outputs": [],
   "source": [
    "#insert code here"
   ]
  },
  {
   "cell_type": "markdown",
   "metadata": {},
   "source": [
    "### Bonus Problem"
   ]
  },
  {
   "cell_type": "markdown",
   "metadata": {},
   "source": [
    "Use a Fourier basis (sines and cosines) either in conjunction with a polynomial basis, or on its own, to create a forecast model similar to polynomial basis with an auto-regressive model order 2. Hint: you can use the gradient descent method from homework 1, but you need to incoporate a weight inside of the Fourier terms in addition to the outside; that means you need to compute an extra partial derivative with respect to the loss for each additional weight term."
   ]
  },
  {
   "cell_type": "code",
   "execution_count": null,
   "metadata": {
    "collapsed": true
   },
   "outputs": [],
   "source": [
    "#insert your code here"
   ]
  },
  {
   "cell_type": "code",
   "execution_count": null,
   "metadata": {
    "collapsed": true
   },
   "outputs": [],
   "source": []
  }
 ],
 "metadata": {
  "kernelspec": {
   "display_name": "Python [conda env:anaconda3]",
   "language": "python",
   "name": "conda-env-anaconda3-py"
  },
  "language_info": {
   "codemirror_mode": {
    "name": "ipython",
    "version": 3
   },
   "file_extension": ".py",
   "mimetype": "text/x-python",
   "name": "python",
   "nbconvert_exporter": "python",
   "pygments_lexer": "ipython3",
   "version": "3.6.8"
  }
 },
 "nbformat": 4,
 "nbformat_minor": 2
}
